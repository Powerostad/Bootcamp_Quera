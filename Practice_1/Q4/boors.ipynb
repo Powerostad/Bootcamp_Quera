{
 "cells": [
  {
   "attachments": {},
   "cell_type": "markdown",
   "metadata": {},
   "source": [
    "<h1 align=center style=\"line-height:200%;font-family:vazir;color:#0099cc\">\n",
    "<font face=\"vazir\" color=\"#0099cc\">\n",
    "بورس ایران\n",
    "\n",
    "</font>\n",
    "</h1>\n"
   ]
  },
  {
   "attachments": {},
   "cell_type": "markdown",
   "metadata": {},
   "source": [
    "<p dir=rtl style=\"direction: rtl;text-align: right;line-height:200%;font-family:vazir;font-size:medium\">\n",
    "<font face=\"vazir\" size=3>\n",
    "در این سوال قرار است با داده های واقعی بورس ایران به چند مسئله پاسخ دهید.\n",
    "</font>\n",
    "</p>\n"
   ]
  },
  {
   "attachments": {},
   "cell_type": "markdown",
   "metadata": {},
   "source": [
    "<h2 align=right style=\"line-height:200%;font-family:vazir;color:#0099cc\">\n",
    "<font face=\"vazir\" color=\"#0099cc\">\n",
    "قسمت اول\n",
    "<br>\n",
    "محاسبه حداکثر افت سرمایه در بازه سه سال\n",
    "</font>\n",
    "</h2>\n",
    "\n",
    "<p dir=rtl style=\"direction: rtl;text-align: right;line-height:200%;font-family:vazir;font-size:medium\">\n",
    "<font face=\"vazir\" size=3>\n",
    "طبق گفته سایت investopedia تعریف  <a href=\"https://www.investopedia.com/terms/m/maximum-drawdown-mdd.asp\">Maximum DarwDown</a> به صورت زیر است : \n",
    "<br>\n",
    "Maximum DrawDown (MDD) یا همان حداکثر افت سرمایه مقدار حداکثر افت سرمایه از یک قله تا \n",
    "<b>\n",
    "کف بعد از آن\n",
    "</b>\n",
    " قله است قبل از این که قله جدیدی تشکیل شود.\n",
    "<br>\n",
    "حداکثر افت سرمایه نشانگر ریسک نزولی در یک بازه زمانی مشخص است.\n",
    "</font>\n",
    "</p>\n",
    "\n"
   ]
  },
  {
   "attachments": {},
   "cell_type": "markdown",
   "metadata": {},
   "source": [
    "$ MDD = \\frac{Trough Value - Peak Value}{Peak Value} $"
   ]
  },
  {
   "attachments": {},
   "cell_type": "markdown",
   "metadata": {},
   "source": [
    "<p dir=rtl style=\"direction: rtl;text-align: right;line-height:200%;font-family:vazir;font-size:medium\">\n",
    "<font face=\"vazir\" size=3>\n",
    "در این قسمت شما داده های سهام فولاد در بورس ایران را دریافت میکنید و باید میزان حداکثر افت سرمایه را از تاریخ 01-01-2020 تا تاریخ 01-01-2023 را بدست بیاورید و تا دو رقم اعشار رند کنید و در  <code>MDD</code> قرار دهید.\n",
    "<br>\n",
    "خروجی شما باید عددی اعشاری بین صفر و یک با علامت منفی باشد و نوع داده شما باید float باشد.\n",
    "<br>\n",
    "برای محاسه <code>MDD</code> از ستون <code>adjClose</code> استفاده کنید.\n",
    "</font>\n",
    "</p>"
   ]
  },
  {
   "cell_type": "code",
   "execution_count": 9,
   "metadata": {},
   "outputs": [],
   "source": [
    "import pandas as pd\n",
    "import numpy as np"
   ]
  },
  {
   "cell_type": "code",
   "execution_count": 10,
   "metadata": {},
   "outputs": [],
   "source": [
    "# read the data\n",
    "# read فولاد.csv for this part\n",
    "foolad_df = pd.read_csv('فولاد.csv',parse_dates=['date'])"
   ]
  },
  {
   "cell_type": "code",
   "execution_count": 11,
   "metadata": {},
   "outputs": [],
   "source": [
    "# calculate the MDD\n",
    "filtered_df = foolad_df[(foolad_df['date'] >= '2020-01-01') &  (foolad_df['date'] <= '2023-01-01')]\n",
    "peak = filtered_df['adjClose'].cummax(axis=0)\n",
    "dd = (filtered_df['adjClose'] - peak)/peak\n",
    "MDD = float(dd.round(2).min())"
   ]
  },
  {
   "attachments": {},
   "cell_type": "markdown",
   "metadata": {},
   "source": [
    "<h2 align=right style=\"line-height:200%;font-family:vazir;color:#0099cc\">\n",
    "<font face=\"vazir\" color=\"#0099cc\">\n",
    "قسمت دوم\n",
    "<br>\n",
    "کندل های حجمی\n",
    "</font>\n",
    "</h2>\n",
    "<p dir=rtl style=\"direction: rtl;text-align: right;line-height:200%;font-family:vazir;font-size:medium\">\n",
    "<font face=\"vazir\" size=3>\n",
    "  کندل های حجمی یا <a href=\"https://towardsdatascience.com/advanced-candlesticks-for-machine-learning-ii-volume-and-dollar-bars-6cda27e3201d\">volume bars</a> \n",
    "آن دسته از کندل هایی هستن که بر اساس حجم هستند.\n",
    "<br>\n",
    "در کندل های زمانی در یک بازه زمانی مشخص ریز معاملات را بررسی میکنند و قیمت شروع کننده رو به عنوان Open Price در نظر میگرند و قیمت آخر را به عنوان Close Price در نظر میگیرن و بالاترین و پایین ترین قیمت را به ترتیب به عنوان High و Low در نظر میگیرند و همچنین مجموع حجم آن روز را به عنوان volume در نظر گرفته میشود.\n",
    "<br>\n",
    "نمونه های کندل های زمانی را در قسمت قبل دیدید که در یک بازه یک روزه ریز معاملات را بررسی کرده اند.\n",
    "<br>\n",
    "در کندل های حجمی نیز شما به همین سبک عمل کرده ولی زمان برای شما مهم نمیباشد بلکه به ازای یک مقدار مشخص حجم که در این سوال برای شما 400000 در نظر گرفته شده است کندل های حجمی را تشکیل میدهیم.\n",
    "<br>\n",
    "در این سوال به شما ریز معاملات یک روز معاملاتی سهام فولاد داده شده است شما باید هر موقع مجموع حجم ریزمعاملات به عدد 400000 رسید یک کندل (یک ردیف در دیتا فریم) تشکیل دهید و تمام پارامتر ها را (Open Price,Close Price,...) باید در نظر بگیرید.\n",
    "<br>\n",
    "5 خط اول خروجی شما باید به شکل زیر باشد.\n",
    "<br>\n",
    "خروجی خود را در <code>volume_bars</code> ذخیر کنید.\n",
    "<br>\n",
    "hint : برای این سوال باید از iteration استفاده کنید.\n",
    "</font>\n",
    "</p>\n"
   ]
  },
  {
   "attachments": {},
   "cell_type": "markdown",
   "metadata": {},
   "source": [
    "|    |   open |   high |   low |   close |   volume |\n",
    "|---:|-------:|-------:|------:|--------:|---------:|\n",
    "|  0 |   6260 |   6260 |  6260 |    6260 |   419476 |\n",
    "|  1 |   6260 |   6260 |  6240 |    6240 |   403936 |\n",
    "|  2 |   6240 |   6240 |  6220 |    6220 |   409206 |\n",
    "|  3 |   6220 |   6240 |  6220 |    6220 |   401274 |\n",
    "|  4 |   6220 |   6230 |  6210 |    6230 |   412543 |"
   ]
  },
  {
   "cell_type": "code",
   "execution_count": 12,
   "metadata": {},
   "outputs": [],
   "source": [
    "# read the data\n",
    "# read ریزمعاملات_فولاد.csv for this part\n",
    "foolad_detailed_df = pd.read_csv(\"ریزمعاملات_فولاد.csv\")"
   ]
  },
  {
   "cell_type": "code",
   "execution_count": 27,
   "metadata": {},
   "outputs": [
    {
     "data": {
      "text/html": [
       "<div>\n",
       "<style scoped>\n",
       "    .dataframe tbody tr th:only-of-type {\n",
       "        vertical-align: middle;\n",
       "    }\n",
       "\n",
       "    .dataframe tbody tr th {\n",
       "        vertical-align: top;\n",
       "    }\n",
       "\n",
       "    .dataframe thead th {\n",
       "        text-align: right;\n",
       "    }\n",
       "</style>\n",
       "<table border=\"1\" class=\"dataframe\">\n",
       "  <thead>\n",
       "    <tr style=\"text-align: right;\">\n",
       "      <th></th>\n",
       "      <th>open</th>\n",
       "      <th>high</th>\n",
       "      <th>low</th>\n",
       "      <th>close</th>\n",
       "      <th>volume</th>\n",
       "    </tr>\n",
       "  </thead>\n",
       "  <tbody>\n",
       "    <tr>\n",
       "      <th>0</th>\n",
       "      <td>6260.0</td>\n",
       "      <td>6260.0</td>\n",
       "      <td>6260.0</td>\n",
       "      <td>6260.0</td>\n",
       "      <td>419476</td>\n",
       "    </tr>\n",
       "    <tr>\n",
       "      <th>1</th>\n",
       "      <td>6260.0</td>\n",
       "      <td>6260.0</td>\n",
       "      <td>6240.0</td>\n",
       "      <td>6240.0</td>\n",
       "      <td>403936</td>\n",
       "    </tr>\n",
       "    <tr>\n",
       "      <th>2</th>\n",
       "      <td>6240.0</td>\n",
       "      <td>6240.0</td>\n",
       "      <td>6220.0</td>\n",
       "      <td>6220.0</td>\n",
       "      <td>409206</td>\n",
       "    </tr>\n",
       "    <tr>\n",
       "      <th>3</th>\n",
       "      <td>6220.0</td>\n",
       "      <td>6240.0</td>\n",
       "      <td>6220.0</td>\n",
       "      <td>6220.0</td>\n",
       "      <td>401274</td>\n",
       "    </tr>\n",
       "    <tr>\n",
       "      <th>4</th>\n",
       "      <td>6220.0</td>\n",
       "      <td>6230.0</td>\n",
       "      <td>6210.0</td>\n",
       "      <td>6230.0</td>\n",
       "      <td>412543</td>\n",
       "    </tr>\n",
       "    <tr>\n",
       "      <th>5</th>\n",
       "      <td>6230.0</td>\n",
       "      <td>6240.0</td>\n",
       "      <td>6210.0</td>\n",
       "      <td>6240.0</td>\n",
       "      <td>420513</td>\n",
       "    </tr>\n",
       "  </tbody>\n",
       "</table>\n",
       "</div>"
      ],
      "text/plain": [
       "     open    high     low   close  volume\n",
       "0  6260.0  6260.0  6260.0  6260.0  419476\n",
       "1  6260.0  6260.0  6240.0  6240.0  403936\n",
       "2  6240.0  6240.0  6220.0  6220.0  409206\n",
       "3  6220.0  6240.0  6220.0  6220.0  401274\n",
       "4  6220.0  6230.0  6210.0  6230.0  412543\n",
       "5  6230.0  6240.0  6210.0  6240.0  420513"
      ]
     },
     "execution_count": 27,
     "metadata": {},
     "output_type": "execute_result"
    }
   ],
   "source": [
    "index = 0\n",
    "cumvolume = 0\n",
    "first_index = 0\n",
    "volume_bars = pd.DataFrame(columns=['open','high','low','close','volume'])\n",
    "for index in range(foolad_detailed_df.shape[0]) :\n",
    "    \n",
    "    \n",
    "    cumvolume += foolad_detailed_df.loc[index]['volume']\n",
    "    if cumvolume >= 400000:\n",
    "        opene = foolad_detailed_df.iloc[first_index].values[2]\n",
    "        close = foolad_detailed_df.iloc[index].values[2]\n",
    "        volume = cumvolume\n",
    "        high = foolad_detailed_df[(foolad_detailed_df.index <= index ) & (foolad_detailed_df.index > first_index )].max().values[2]\n",
    "        low = foolad_detailed_df[(foolad_detailed_df.index <= index ) & (foolad_detailed_df.index > first_index )].min().values[2]\n",
    "        \n",
    "        first_index = index\n",
    "        volume_bars.loc[len(volume_bars.index)] = [opene,high,low,close,volume]\n",
    "\n",
    "        \n",
    "        cumvolume = 0\n",
    "        \n",
    "    index = 1 + index\n",
    "    \n",
    "volume_bars = volume_bars.astype({'volume':int})\n",
    "volume_bars.head(6)"
   ]
  },
  {
   "cell_type": "code",
   "execution_count": 28,
   "metadata": {},
   "outputs": [],
   "source": [
    "# calculate volume bars dataframe\n",
    "#volume_bars = volume_bars\n",
    "volume_bars.reset_index(drop=True,inplace=True)"
   ]
  },
  {
   "cell_type": "markdown",
   "metadata": {},
   "source": [
    "<h2 align=right style=\"line-height:200%;font-family:vazir;color:#0099cc\">\n",
    "سلول جواب‌ساز\n",
    "</h2>"
   ]
  },
  {
   "cell_type": "code",
   "execution_count": 29,
   "metadata": {},
   "outputs": [
    {
     "name": "stdout",
     "output_type": "stream",
     "text": [
      "File Paths:\n",
      "['MDD', 'volume_bars.csv', 'boors.ipynb']\n"
     ]
    }
   ],
   "source": [
    "import zipfile\n",
    "import joblib\n",
    "\n",
    "joblib.dump(MDD,\"MDD\")\n",
    "volume_bars.to_csv('./volume_bars.csv', index=False)\n",
    "\n",
    "\n",
    "def compress(file_names):\n",
    "    print(\"File Paths:\")\n",
    "    print(file_names)\n",
    "    # Select the compression mode ZIP_DEFLATED for compression\n",
    "    # or zipfile.ZIP_STORED to just store the file\n",
    "    compression = zipfile.ZIP_DEFLATED\n",
    "    # create the zip file first parameter path/name, second mode\n",
    "    with zipfile.ZipFile(\"result.zip\", mode=\"w\") as zf:\n",
    "        for file_name in file_names:\n",
    "            # Add file to the zip file\n",
    "            # first parameter file to zip, second filename in zip\n",
    "            zf.write('./' + file_name, file_name, compress_type=compression)\n",
    "\n",
    "\n",
    "file_names = [\"MDD\" , \"volume_bars.csv\" , \"boors.ipynb\"]\n",
    "compress(file_names)"
   ]
  },
  {
   "cell_type": "code",
   "execution_count": null,
   "metadata": {},
   "outputs": [],
   "source": []
  }
 ],
 "metadata": {
  "kernelspec": {
   "display_name": "Python 3",
   "language": "python",
   "name": "python3"
  },
  "language_info": {
   "codemirror_mode": {
    "name": "ipython",
    "version": 3
   },
   "file_extension": ".py",
   "mimetype": "text/x-python",
   "name": "python",
   "nbconvert_exporter": "python",
   "pygments_lexer": "ipython3",
   "version": "3.9.8"
  },
  "orig_nbformat": 4,
  "vscode": {
   "interpreter": {
    "hash": "e57ec916339251f7d5054c1ee3072c8a2e71b1834136959865747906e3e282df"
   }
  }
 },
 "nbformat": 4,
 "nbformat_minor": 2
}
