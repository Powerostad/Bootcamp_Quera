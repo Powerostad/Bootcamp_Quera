{
 "cells": [
  {
   "attachments": {},
   "cell_type": "markdown",
   "metadata": {},
   "source": [
    "<h1 align=center style=\"line-height:200%;font-family:vazir;color:#0099cc\">\n",
    "<font face=\"vazir\" color=\"#0099cc\">\n",
    "آنتن‌های مخابراتی\n",
    "</font>\n",
    "</h1>"
   ]
  },
  {
   "attachments": {},
   "cell_type": "markdown",
   "metadata": {},
   "source": [
    "<p dir=rtl style=\"direction: rtl;text-align: justify;line-height:200%;font-family:vazir;font-size:medium\">\n",
    "<font face=\"vazir\" size=3>\n",
    "برای حل این تمرین، شما باید تابع \n",
    "<code>solve</code>\n",
    "را پیاده‌سازی کنید و در نهایت با اجرای سلول جواب‌ساز، کد خود را سیو کنید.\n",
    "<br>\n",
    "<span style=\"color:purple\"><b>توجه مهم:  </b></span>\n",
    "برای حل این تمرین، تنها از لایبرری‌هایی می‌توانید استفاده کنید که در تابع \n",
    "<code>import</code>\n",
    "شده‌اند. به هیچ وجه از لایبرری دیگری استفاده نکنید و ضمناً اسم لایبرری‌ها را نیز تغییر ندهید. در غیر این صورت، سیستم داوری نمی‌تواند کد شما را داوری کند.\n",
    "</font>\n",
    "</p>"
   ]
  },
  {
   "attachments": {},
   "cell_type": "markdown",
   "metadata": {},
   "source": [
    "<h2 align=right style=\"line-height:200%;font-family:vazir;color:#0099cc\">\n",
    "<font face=\"vazir\" color=\"#0099cc\">\n",
    "ورودی\n",
    "</font>\n",
    "</h2>"
   ]
  },
  {
   "attachments": {},
   "cell_type": "markdown",
   "metadata": {},
   "source": [
    "<p dir=rtl style=\"direction: rtl;text-align: justify;line-height:200%;font-family:vazir;font-size:medium\">\n",
    "<font face=\"vazir\" size=3>\n",
    "تابعی که شما پیاده‌سازی می‌کنید، چهار ورودی دارد:\n",
    "<ul style=\"direction: rtl;text-align: justify;line-height:200%;font-family:vazir;font-size:medium\">\n",
    "<li>\n",
    "متغیر‌های\n",
    "<code>a</code>\n",
    "و\n",
    "<code>b</code>\n",
    "طول و عرض نقشه را مشخص می‌کند.</li>\n",
    "<li>\n",
    "آرایه‌ی \n",
    "<code>centers</code>\n",
    "که مراکز دایره‌ها را مشخص می‌کند. هر سطر از این آرایه، طول و عرض یک آنتن را مشخص می‌کند.\n",
    "</li>\n",
    "<li>\n",
    "آرایه‌ی\n",
    "<code>radiuses</code>\n",
    "که قدرت آنتن‌ها را مشخص می‌کند.\n",
    "</li>\n",
    "</ul>\n",
    "</font>\n",
    "</p>"
   ]
  },
  {
   "attachments": {},
   "cell_type": "markdown",
   "metadata": {},
   "source": [
    "<h2 align=right style=\"line-height:200%;font-family:vazir;color:#0099cc\">\n",
    "<font face=\"vazir\" color=\"#0099cc\">\n",
    "خروجی\n",
    "</font>\n",
    "</h2>"
   ]
  },
  {
   "attachments": {},
   "cell_type": "markdown",
   "metadata": {},
   "source": [
    "<p dir=rtl style=\"direction: rtl;text-align: justify;line-height:200%;font-family:vazir;font-size:medium\">\n",
    "<font face=\"vazir\" size=3>\n",
    "خروجی شما یک  عدد اعشاری است که مساحت ناحیه‌ی پوشش‌دهی شده را مشخص می‌کند. دقت کنید که تفاوت پاسخ شما با جواب واقعی باید کمتر از \n",
    "<code>5e-2</code>\n",
    "باشد.\n",
    "</font>\n",
    "</p>"
   ]
  },
  {
   "cell_type": "code",
   "execution_count": 33,
   "metadata": {},
   "outputs": [],
   "source": [
    "\n",
    "\n",
    "def solve(a, b, centers, radiuses):\n",
    "    import numpy as np\n",
    "    grid_size = 1000\n",
    "    cell_area = (a * b) / (grid_size ** 2)\n",
    "    total_covered_area = 0\n",
    "\n",
    "    for i in range(grid_size):\n",
    "        for j in range(grid_size):\n",
    "            cell_x = a * (i + 0.5) / grid_size\n",
    "            cell_y = b * (j + 0.5) / grid_size\n",
    "            cell_covered = False\n",
    "\n",
    "            for k in range(len(centers)):\n",
    "                antenna_x, antenna_y = centers[k]\n",
    "                radius = radiuses[k]\n",
    "                distance = np.sqrt((cell_x - antenna_x) ** 2 + (cell_y - antenna_y) ** 2)\n",
    "\n",
    "                if distance <= radius:\n",
    "                    cell_covered = True\n",
    "                    break\n",
    "\n",
    "            if cell_covered:\n",
    "                total_covered_area += cell_area\n",
    "\n",
    "    return total_covered_area\n",
    "\n"
   ]
  },
  {
   "cell_type": "code",
   "execution_count": 34,
   "metadata": {},
   "outputs": [
    {
     "name": "stdout",
     "output_type": "stream",
     "text": [
      "3.142800000002208\n",
      "45.94040000040153\n"
     ]
    }
   ],
   "source": [
    "# Here are some examples of how your outputs should look like\n",
    "# solve(10, 10, [[5, 5]], [1]) = 3.14\n",
    "# solve(10, 10, [[5, 5], [2.5, 2.5]], [3, 3]) = 45.94\n",
    "print(solve(10, 10, [[5, 5]], [1]))\n",
    "print(solve(10, 10, [[5, 5], [2.5, 2.5]], [3, 3]))"
   ]
  },
  {
   "attachments": {},
   "cell_type": "markdown",
   "metadata": {},
   "source": [
    "<h2 align=right style=\"line-height:200%;font-family:vazir;color:#0099cc\">\n",
    "<font face=\"vazir\" color=\"#0099cc\">\n",
    "<b>سلول جواب‌ساز</b>\n",
    "</font>\n",
    "</h2>\n",
    "\n",
    "\n",
    "<p dir=rtl style=\"direction: rtl; text-align: justify; line-height:200%; font-family:vazir; font-size:medium\">\n",
    "<font face=\"vazir\" size=3>\n",
    "    برای ساخته‌شدن فایل <code>result.zip</code> سلول زیر را اجرا کنید. توجه داشته باشید که پیش از اجرای سلول زیر تغییرات اعمال شده در نت‌بوک را ذخیره کرده باشید (<code>ctrl+s</code>) تا در صورت نیاز به پشتیبانی امکان بررسی کد شما وجود داشته باشد.\n",
    "</font>\n",
    "</p>\n",
    "\n"
   ]
  },
  {
   "cell_type": "code",
   "execution_count": 35,
   "metadata": {},
   "outputs": [
    {
     "name": "stdout",
     "output_type": "stream",
     "text": [
      "The following commands were written to file `solve.py`:\n",
      "def solve(a, b, centers, radiuses):\n",
      "    import numpy as np\n",
      "    grid_size = 1000\n",
      "    cell_area = (a * b) / (grid_size ** 2)\n",
      "    total_covered_area = 0\n",
      "\n",
      "    for i in range(grid_size):\n",
      "        for j in range(grid_size):\n",
      "            cell_x = a * (i + 0.5) / grid_size\n",
      "            cell_y = b * (j + 0.5) / grid_size\n",
      "            cell_covered = False\n",
      "\n",
      "            for k in range(len(centers)):\n",
      "                antenna_x, antenna_y = centers[k]\n",
      "                radius = radiuses[k]\n",
      "                distance = np.sqrt((cell_x - antenna_x) ** 2 + (cell_y - antenna_y) ** 2)\n",
      "\n",
      "                if distance <= radius:\n",
      "                    cell_covered = True\n",
      "                    break\n",
      "\n",
      "            if cell_covered:\n",
      "                total_covered_area += cell_area\n",
      "\n",
      "    return total_covered_area\n",
      "\n",
      "File Paths:\n",
      "['solve.py', 'antenna.ipynb']\n"
     ]
    }
   ],
   "source": [
    "import zipfile \n",
    "from inspect import getsource\n",
    "\n",
    "%save solve getsource(solve)\n",
    "\n",
    "def compress(file_names):\n",
    "    print(\"File Paths:\")\n",
    "    print(file_names)\n",
    "    # Select the compression mode ZIP_DEFLATED for compression\n",
    "    # or zipfile.ZIP_STORED to just store the file\n",
    "    compression = zipfile.ZIP_DEFLATED\n",
    "    # create the zip file first parameter path/name, second mode\n",
    "    with zipfile.ZipFile(\"result.zip\", mode=\"w\") as zf:\n",
    "        for file_name in file_names:\n",
    "            # Add file to the zip file\n",
    "            # first parameter file to zip, second filename in zip\n",
    "            zf.write('./' + file_name, file_name, compress_type=compression)\n",
    "\n",
    "file_names = [\"solve.py\", \"antenna.ipynb\"]\n",
    "compress(file_names)"
   ]
  },
  {
   "cell_type": "code",
   "execution_count": null,
   "metadata": {},
   "outputs": [],
   "source": []
  }
 ],
 "metadata": {
  "kernelspec": {
   "display_name": "qenv",
   "language": "python",
   "name": "python3"
  },
  "language_info": {
   "codemirror_mode": {
    "name": "ipython",
    "version": 3
   },
   "file_extension": ".py",
   "mimetype": "text/x-python",
   "name": "python",
   "nbconvert_exporter": "python",
   "pygments_lexer": "ipython3",
   "version": "3.9.13"
  },
  "orig_nbformat": 4
 },
 "nbformat": 4,
 "nbformat_minor": 2
}
