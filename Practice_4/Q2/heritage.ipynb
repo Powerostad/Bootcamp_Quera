{
 "cells": [
  {
   "attachments": {},
   "cell_type": "markdown",
   "metadata": {},
   "source": [
    "<h1 align=center style=\"line-height:200%;font-family:vazir;color:#0099cc\">\n",
    "<font face=\"vazir\" color=\"#0099cc\">\n",
    "ارث خانوادگی\n",
    "</font>\n",
    "</h1>"
   ]
  },
  {
   "attachments": {},
   "cell_type": "markdown",
   "metadata": {},
   "source": [
    "<p dir=rtl style=\"direction: rtl;text-align: justify;line-height:200%;font-family:vazir;font-size:medium\">\n",
    "<font face=\"vazir\" size=3>\n",
    "برای حل این تمرین، شما باید تابع \n",
    "<code>solve</code>\n",
    "را پیاده‌سازی کنید و در نهایت با اجرای سلول جواب‌ساز، کد خود را سیو کنید.\n",
    "<br>\n",
    "<span style=\"color:purple\"><b>توجه مهم:  </b></span>\n",
    "برای حل این تمرین، تنها از لایبرری‌هایی می‌توانید استفاده کنید که در تابع \n",
    "<code>import</code>\n",
    "شده‌اند. به هیچ وجه از لایبرری دیگری استفاده نکنید و ضمناً اسم لایبرری‌ها را نیز تغییر ندهید. در غیر این صورت، سیستم داوری نمی‌تواند کد شما را داوری کند.\n",
    "</font>\n",
    "</p>"
   ]
  },
  {
   "attachments": {},
   "cell_type": "markdown",
   "metadata": {},
   "source": [
    "<h2 align=right style=\"line-height:200%;font-family:vazir;color:#0099cc\">\n",
    "<font face=\"vazir\" color=\"#0099cc\">\n",
    "ورودی\n",
    "</font>\n",
    "</h2>"
   ]
  },
  {
   "attachments": {},
   "cell_type": "markdown",
   "metadata": {},
   "source": [
    "<p dir=rtl style=\"direction: rtl;text-align: justify;line-height:200%;font-family:vazir;font-size:medium\">\n",
    "<font face=\"vazir\" size=3>\n",
    "تابعی که شما پیاده‌سازی می‌کنید، سه ورودی دارد:\n",
    "<ul style=\"direction: rtl;text-align: justify;line-height:200%;font-family:vazir;font-size:medium\">\n",
    "<li>\n",
    "متغیر\n",
    "<code>n</code>\n",
    "که کل دارایی را نشان می‌دهد.\n",
    "</li>\n",
    "<li>\n",
    "آرایه‌ی سه عضوی \n",
    "<code>lows</code>\n",
    "که کمینه انتظار فرزندان را نشان می دهد.\n",
    "</li>\n",
    "<li>\n",
    "آرایه‌ی سه عضوی\n",
    "<code>highs</code>\n",
    "که بیشینه انتظار فرزندان را نشان می‌دهد.\n",
    "</li>\n",
    "</ul>\n",
    "</font>\n",
    "</p>"
   ]
  },
  {
   "attachments": {},
   "cell_type": "markdown",
   "metadata": {},
   "source": [
    "<h2 align=right style=\"line-height:200%;font-family:vazir;color:#0099cc\">\n",
    "<font face=\"vazir\" color=\"#0099cc\">\n",
    "خروجی\n",
    "</font>\n",
    "</h2>"
   ]
  },
  {
   "attachments": {},
   "cell_type": "markdown",
   "metadata": {},
   "source": [
    "<p dir=rtl style=\"direction: rtl;text-align: justify;line-height:200%;font-family:vazir;font-size:medium\">\n",
    "<font face=\"vazir\" size=3>\n",
    "خروجی شما یک \n",
    "<code>tuple</code>\n",
    "۴ عضوی خواهد بود که به ترتیب\n",
    "احتمال خواسته شده در صورت سوال و ۳ امیدریاضی خواسته شده را نشان می‌دهد. دقت کنید که تفاوت پاسخ شما با جواب واقعی باید کمتر از \n",
    "<code>1e-2</code>\n",
    "باشد.\n",
    "</font>\n",
    "</p>"
   ]
  },
  {
   "cell_type": "code",
   "execution_count": 12,
   "metadata": {},
   "outputs": [],
   "source": [
    "def solve(n, lows, highs):\n",
    "    import numpy as np\n",
    "    n_simulate = 1000000\n",
    "    amount_received = [0,0,0]\n",
    "    prob = 0\n",
    "    for i in range(n_simulate):\n",
    "        amounts = [np.random.uniform(lows[i],highs[i]) for i in range(3)]\n",
    "        if sum(amounts) <= n:\n",
    "            prob += 1\n",
    "            for i in range(3):\n",
    "                amount_received[i] += amounts[i]\n",
    "\n",
    "        else:\n",
    "            pass\n",
    "    prob = prob / (n_simulate) \n",
    "    expect = [amount_received[i] / n_simulate for i in range(3)]\n",
    "\n",
    "    probability, ex1, ex2, ex3 = round(prob,2), round(expect[0],2), round(expect[1],2), round(expect[2],2)\n",
    "    return (probability, ex1, ex2, ex3)"
   ]
  },
  {
   "cell_type": "code",
   "execution_count": 13,
   "metadata": {},
   "outputs": [
    {
     "name": "stdout",
     "output_type": "stream",
     "text": [
      "(1.0, 10.0, 9.99, 10.0)\n",
      "(0.17, 4.17, 4.17, 4.18)\n"
     ]
    }
   ],
   "source": [
    "# Here are some examples of how your outputs should look like\n",
    "# solve(100, [0, 0, 0], [20, 20, 20]) = (1.0, 10.0, 10.0, 10.0)\n",
    "# solve(100, [0, 0, 0], [100, 100, 100]) = (0.16, 4.16, 4.16, 4.16)\n",
    "print(solve(100, [0, 0, 0], [20, 20, 20]))\n",
    "print(solve(100, [0, 0, 0], [100, 100, 100]))"
   ]
  },
  {
   "attachments": {},
   "cell_type": "markdown",
   "metadata": {},
   "source": [
    "<h2 align=right style=\"line-height:200%;font-family:vazir;color:#0099cc\">\n",
    "<font face=\"vazir\" color=\"#0099cc\">\n",
    "<b>سلول جواب‌ساز</b>\n",
    "</font>\n",
    "</h2>\n",
    "\n",
    "\n",
    "<p dir=rtl style=\"direction: rtl; text-align: justify; line-height:200%; font-family:vazir; font-size:medium\">\n",
    "<font face=\"vazir\" size=3>\n",
    "    برای ساخته‌شدن فایل <code>result.zip</code> سلول زیر را اجرا کنید. توجه داشته باشید که پیش از اجرای سلول زیر تغییرات اعمال شده در نت‌بوک را ذخیره کرده باشید (<code>ctrl+s</code>) تا در صورت نیاز به پشتیبانی امکان بررسی کد شما وجود داشته باشد.\n",
    "</font>\n",
    "</p>\n",
    "\n"
   ]
  },
  {
   "cell_type": "code",
   "execution_count": 14,
   "metadata": {},
   "outputs": [
    {
     "name": "stdout",
     "output_type": "stream",
     "text": [
      "The following commands were written to file `solve.py`:\n",
      "def solve(n, lows, highs):\n",
      "    import numpy as np\n",
      "    n_simulate = 1000000\n",
      "    amount_received = [0,0,0]\n",
      "    prob = 0\n",
      "    for i in range(n_simulate):\n",
      "        amounts = [np.random.uniform(lows[i],highs[i]) for i in range(3)]\n",
      "        if sum(amounts) <= n:\n",
      "            prob += 1\n",
      "            for i in range(3):\n",
      "                amount_received[i] += amounts[i]\n",
      "\n",
      "        else:\n",
      "            pass\n",
      "    prob = prob / (n_simulate) \n",
      "    expect = [amount_received[i] / n_simulate for i in range(3)]\n",
      "\n",
      "    probability, ex1, ex2, ex3 = round(prob,2), round(expect[0],2), round(expect[1],2), round(expect[2],2)\n",
      "    return (probability, ex1, ex2, ex3)\n",
      "\n",
      "File Paths:\n",
      "['solve.py', 'heritage.ipynb']\n"
     ]
    }
   ],
   "source": [
    "import zipfile \n",
    "from inspect import getsource\n",
    "\n",
    "%save solve getsource(solve)\n",
    "\n",
    "def compress(file_names):\n",
    "    print(\"File Paths:\")\n",
    "    print(file_names)\n",
    "    # Select the compression mode ZIP_DEFLATED for compression\n",
    "    # or zipfile.ZIP_STORED to just store the file\n",
    "    compression = zipfile.ZIP_DEFLATED\n",
    "    # create the zip file first parameter path/name, second mode\n",
    "    with zipfile.ZipFile(\"result.zip\", mode=\"w\") as zf:\n",
    "        for file_name in file_names:\n",
    "            # Add file to the zip file\n",
    "            # first parameter file to zip, second filename in zip\n",
    "            zf.write('./' + file_name, file_name, compress_type=compression)\n",
    "\n",
    "file_names = [\"solve.py\", \"heritage.ipynb\"]\n",
    "compress(file_names)"
   ]
  },
  {
   "cell_type": "code",
   "execution_count": null,
   "metadata": {},
   "outputs": [],
   "source": []
  }
 ],
 "metadata": {
  "kernelspec": {
   "display_name": "qenv",
   "language": "python",
   "name": "python3"
  },
  "language_info": {
   "codemirror_mode": {
    "name": "ipython",
    "version": 3
   },
   "file_extension": ".py",
   "mimetype": "text/x-python",
   "name": "python",
   "nbconvert_exporter": "python",
   "pygments_lexer": "ipython3",
   "version": "3.9.8"
  },
  "orig_nbformat": 4
 },
 "nbformat": 4,
 "nbformat_minor": 2
}
